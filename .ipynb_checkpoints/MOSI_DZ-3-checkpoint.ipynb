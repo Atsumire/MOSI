{
 "cells": [
  {
   "cell_type": "code",
   "execution_count": 3,
   "id": "a22d9af4",
   "metadata": {},
   "outputs": [],
   "source": [
    "import pandas as pd"
   ]
  },
  {
   "cell_type": "code",
   "execution_count": 31,
   "id": "3d737681",
   "metadata": {},
   "outputs": [],
   "source": [
    "from sklearn.preprocessing import MinMaxScaler"
   ]
  },
  {
   "cell_type": "code",
   "execution_count": 7,
   "id": "3bc19caf",
   "metadata": {},
   "outputs": [],
   "source": [
    "from sklearn.model_selection import train_test_split"
   ]
  },
  {
   "cell_type": "code",
   "execution_count": 36,
   "id": "5f23479a",
   "metadata": {},
   "outputs": [],
   "source": [
    "import numpy as np"
   ]
  },
  {
   "cell_type": "markdown",
   "id": "0d7c8797",
   "metadata": {},
   "source": [
    "# Датасет"
   ]
  },
  {
   "cell_type": "markdown",
   "id": "caf2fbde",
   "metadata": {},
   "source": [
    "## Импорт"
   ]
  },
  {
   "cell_type": "code",
   "execution_count": 209,
   "id": "72315292",
   "metadata": {},
   "outputs": [],
   "source": [
    "PATH_TO_FILE: str = 'Mall_Customers.csv'\n",
    "\n",
    "df = pd.read_csv(PATH_TO_FILE)"
   ]
  },
  {
   "cell_type": "code",
   "execution_count": 210,
   "id": "b3fff50f",
   "metadata": {},
   "outputs": [
    {
     "data": {
      "text/html": [
       "<div>\n",
       "<style scoped>\n",
       "    .dataframe tbody tr th:only-of-type {\n",
       "        vertical-align: middle;\n",
       "    }\n",
       "\n",
       "    .dataframe tbody tr th {\n",
       "        vertical-align: top;\n",
       "    }\n",
       "\n",
       "    .dataframe thead th {\n",
       "        text-align: right;\n",
       "    }\n",
       "</style>\n",
       "<table border=\"1\" class=\"dataframe\">\n",
       "  <thead>\n",
       "    <tr style=\"text-align: right;\">\n",
       "      <th></th>\n",
       "      <th>CustomerID</th>\n",
       "      <th>Genre</th>\n",
       "      <th>Age</th>\n",
       "      <th>Annual Income (k$)</th>\n",
       "      <th>Spending Score (1-100)</th>\n",
       "    </tr>\n",
       "  </thead>\n",
       "  <tbody>\n",
       "    <tr>\n",
       "      <th>0</th>\n",
       "      <td>1</td>\n",
       "      <td>Male</td>\n",
       "      <td>19</td>\n",
       "      <td>15</td>\n",
       "      <td>39</td>\n",
       "    </tr>\n",
       "    <tr>\n",
       "      <th>1</th>\n",
       "      <td>2</td>\n",
       "      <td>Male</td>\n",
       "      <td>21</td>\n",
       "      <td>15</td>\n",
       "      <td>81</td>\n",
       "    </tr>\n",
       "    <tr>\n",
       "      <th>2</th>\n",
       "      <td>3</td>\n",
       "      <td>Female</td>\n",
       "      <td>20</td>\n",
       "      <td>16</td>\n",
       "      <td>6</td>\n",
       "    </tr>\n",
       "    <tr>\n",
       "      <th>3</th>\n",
       "      <td>4</td>\n",
       "      <td>Female</td>\n",
       "      <td>23</td>\n",
       "      <td>16</td>\n",
       "      <td>77</td>\n",
       "    </tr>\n",
       "    <tr>\n",
       "      <th>4</th>\n",
       "      <td>5</td>\n",
       "      <td>Female</td>\n",
       "      <td>31</td>\n",
       "      <td>17</td>\n",
       "      <td>40</td>\n",
       "    </tr>\n",
       "  </tbody>\n",
       "</table>\n",
       "</div>"
      ],
      "text/plain": [
       "   CustomerID   Genre  Age  Annual Income (k$)  Spending Score (1-100)\n",
       "0           1    Male   19                  15                      39\n",
       "1           2    Male   21                  15                      81\n",
       "2           3  Female   20                  16                       6\n",
       "3           4  Female   23                  16                      77\n",
       "4           5  Female   31                  17                      40"
      ]
     },
     "execution_count": 210,
     "metadata": {},
     "output_type": "execute_result"
    }
   ],
   "source": [
    "df.head()"
   ]
  },
  {
   "cell_type": "code",
   "execution_count": 211,
   "id": "cbc01bf6",
   "metadata": {},
   "outputs": [
    {
     "name": "stdout",
     "output_type": "stream",
     "text": [
      "<class 'pandas.core.frame.DataFrame'>\n",
      "RangeIndex: 200 entries, 0 to 199\n",
      "Data columns (total 5 columns):\n",
      " #   Column                  Non-Null Count  Dtype \n",
      "---  ------                  --------------  ----- \n",
      " 0   CustomerID              200 non-null    int64 \n",
      " 1   Genre                   200 non-null    object\n",
      " 2   Age                     200 non-null    int64 \n",
      " 3   Annual Income (k$)      200 non-null    int64 \n",
      " 4   Spending Score (1-100)  200 non-null    int64 \n",
      "dtypes: int64(4), object(1)\n",
      "memory usage: 7.9+ KB\n"
     ]
    }
   ],
   "source": [
    "df.info()"
   ]
  },
  {
   "cell_type": "markdown",
   "id": "07fbbe2f",
   "metadata": {},
   "source": [
    "## Коректировка"
   ]
  },
  {
   "cell_type": "markdown",
   "id": "50f76dc2",
   "metadata": {},
   "source": [
    "### Преобразуем категориальные данные в числовые"
   ]
  },
  {
   "cell_type": "code",
   "execution_count": 212,
   "id": "453b676b",
   "metadata": {},
   "outputs": [
    {
     "name": "stdout",
     "output_type": "stream",
     "text": [
      "<class 'pandas.core.frame.DataFrame'>\n",
      "RangeIndex: 200 entries, 0 to 199\n",
      "Data columns (total 5 columns):\n",
      " #   Column                  Non-Null Count  Dtype\n",
      "---  ------                  --------------  -----\n",
      " 0   CustomerID              200 non-null    int64\n",
      " 1   Age                     200 non-null    int64\n",
      " 2   Annual Income (k$)      200 non-null    int64\n",
      " 3   Spending Score (1-100)  200 non-null    int64\n",
      " 4   Genre_Male              200 non-null    uint8\n",
      "dtypes: int64(4), uint8(1)\n",
      "memory usage: 6.6 KB\n"
     ]
    }
   ],
   "source": [
    "df = pd.get_dummies(df, columns=['Genre'], drop_first=True)\n",
    "df.info()"
   ]
  },
  {
   "cell_type": "markdown",
   "id": "f4620185",
   "metadata": {},
   "source": [
    "### Выделяем целевую переменную"
   ]
  },
  {
   "cell_type": "code",
   "execution_count": 219,
   "id": "07915be5",
   "metadata": {},
   "outputs": [],
   "source": [
    "X = df.drop('Spending Score (1-100)', axis=1)\n",
    "Y = df['Spending Score (1-100)']"
   ]
  },
  {
   "cell_type": "markdown",
   "id": "b8a2407d",
   "metadata": {},
   "source": [
    "### Нормализация"
   ]
  },
  {
   "cell_type": "code",
   "execution_count": 220,
   "id": "1470e5c8",
   "metadata": {},
   "outputs": [],
   "source": [
    "# Нормализация данных\n",
    "X = X_train\n",
    "Y = y_train\n",
    "X = (X - X.min()) / (X.max() - X.min())\n",
    "Y = (Y - Y.min()) / (Y.max() - Y.min())"
   ]
  },
  {
   "cell_type": "markdown",
   "id": "c803cabb",
   "metadata": {},
   "source": [
    "## Разделение на обучающую и тестовую выборки"
   ]
  },
  {
   "cell_type": "code",
   "execution_count": 221,
   "id": "9cc8d145",
   "metadata": {},
   "outputs": [],
   "source": [
    "X_train, X_test, y_train, y_test = train_test_split(X, Y, test_size=0.2, random_state=42)"
   ]
  },
  {
   "cell_type": "code",
   "execution_count": 222,
   "id": "33f55a02",
   "metadata": {},
   "outputs": [
    {
     "name": "stdout",
     "output_type": "stream",
     "text": [
      "<class 'pandas.core.frame.DataFrame'>\n",
      "Int64Index: 128 entries, 4 to 185\n",
      "Data columns (total 4 columns):\n",
      " #   Column              Non-Null Count  Dtype  \n",
      "---  ------              --------------  -----  \n",
      " 0   CustomerID          128 non-null    float64\n",
      " 1   Age                 128 non-null    float64\n",
      " 2   Annual Income (k$)  128 non-null    float64\n",
      " 3   Genre_Male          128 non-null    float64\n",
      "dtypes: float64(4)\n",
      "memory usage: 5.0 KB\n"
     ]
    }
   ],
   "source": [
    "X_train.info()"
   ]
  },
  {
   "cell_type": "code",
   "execution_count": 223,
   "id": "12700907",
   "metadata": {},
   "outputs": [
    {
     "name": "stdout",
     "output_type": "stream",
     "text": [
      "<class 'pandas.core.series.Series'>\n",
      "Int64Index: 128 entries, 4 to 185\n",
      "Series name: Spending Score (1-100)\n",
      "Non-Null Count  Dtype  \n",
      "--------------  -----  \n",
      "128 non-null    float64\n",
      "dtypes: float64(1)\n",
      "memory usage: 2.0 KB\n"
     ]
    }
   ],
   "source": [
    "y_train.info()"
   ]
  },
  {
   "cell_type": "markdown",
   "id": "820163e2",
   "metadata": {},
   "source": [
    "# Создать нейронную сеть с нуля, т.е. не используя готовые библиотеки.\n"
   ]
  },
  {
   "cell_type": "markdown",
   "id": "f1967cc1",
   "metadata": {},
   "source": [
    "### Нейрон"
   ]
  },
  {
   "cell_type": "code",
   "execution_count": 224,
   "id": "cdcfb638",
   "metadata": {},
   "outputs": [],
   "source": [
    "class SimpleNeuralNetwork:\n",
    "    def __init__(self, input_size, hidden_size, output_size, learning_rate=0.01):\n",
    "        # Инициализация параметров сети\n",
    "        self.input_size = input_size\n",
    "        self.hidden_size = hidden_size\n",
    "        self.output_size = output_size\n",
    "        self.learning_rate = learning_rate\n",
    "\n",
    "        # Веса и смещения\n",
    "        self.weights_input_hidden = np.random.rand(self.input_size, self.hidden_size)\n",
    "        self.bias_hidden = np.random.rand(self.hidden_size)\n",
    "        self.weights_hidden_output = np.random.rand(self.hidden_size, self.output_size)\n",
    "        self.bias_output = np.random.rand(self.output_size)\n",
    "\n",
    "    def activation(self, x):\n",
    "        # Используем сигмоидную функцию активации\n",
    "        return 1 / (1 + np.exp(-x))\n",
    "\n",
    "    def activation_derivative(self, x):\n",
    "        # Производная сигмоидной функции активации\n",
    "        return x * (1 - x)\n",
    "\n",
    "    def forward(self, X):\n",
    "        # Прямое распространение\n",
    "        self.hidden_layer_input = np.dot(X, self.weights_input_hidden) + self.bias_hidden\n",
    "        self.hidden_layer_output = self.activation(self.hidden_layer_input)\n",
    "        self.output_layer_input = np.dot(self.hidden_layer_output, self.weights_hidden_output) + self.bias_output\n",
    "        self.output = self.activation(self.output_layer_input)\n",
    "        return self.output\n",
    "\n",
    "    def backward(self, X, Y, output):\n",
    "        # Обратное распространение ошибки\n",
    "        output_error = Y - output\n",
    "        output_delta = output_error * self.activation_derivative(output)\n",
    "\n",
    "        hidden_layer_error = output_delta.dot(self.weights_hidden_output.T)\n",
    "        hidden_layer_delta = hidden_layer_error * self.activation_derivative(self.hidden_layer_output)\n",
    "\n",
    "        # Обновление весов и смещений\n",
    "        self.weights_hidden_output += self.hidden_layer_output.T.dot(output_delta) * self.learning_rate\n",
    "        self.bias_output += np.sum(output_delta, axis=0) * self.learning_rate\n",
    "        self.weights_input_hidden += X.T.dot(hidden_layer_delta) * self.learning_rate\n",
    "        self.bias_hidden += np.sum(hidden_layer_delta, axis=0) * self.learning_rate\n",
    "\n",
    "    def train(self, X, Y, epochs):\n",
    "        # Обучение сети\n",
    "        for epoch in range(epochs):\n",
    "            output = self.forward(X)\n",
    "            self.backward(X, Y, output)\n",
    "\n",
    "            if epoch % 1000 == 0:\n",
    "                loss = np.mean(np.square(Y - output))\n",
    "                print(f'Epoch {epoch}, Loss: {loss}')\n",
    "\n",
    "    def predict(self, X, y):\n",
    "        pre = self.forward(X)\n",
    "        res = pd.DataFrame()\n",
    "        res['Predicted'] = [p[0] for p in pre]\n",
    "        res['Real'] = y\n",
    "        return res"
   ]
  },
  {
   "cell_type": "code",
   "execution_count": 225,
   "id": "b98bde6d",
   "metadata": {},
   "outputs": [],
   "source": [
    "nn = SimpleNeuralNetwork(X_train.shape[1], 5, 1)"
   ]
  },
  {
   "cell_type": "code",
   "execution_count": 226,
   "id": "49d3ae9c",
   "metadata": {},
   "outputs": [
    {
     "name": "stdout",
     "output_type": "stream",
     "text": [
      "Epoch 0, Loss: 0.1944520811844379\n",
      "Epoch 1000, Loss: 0.06270934431470657\n",
      "Epoch 2000, Loss: 0.06177018236724931\n",
      "Epoch 3000, Loss: 0.06148005936302501\n",
      "Epoch 4000, Loss: 0.06121412272360739\n",
      "Epoch 5000, Loss: 0.06098014805767147\n",
      "Epoch 6000, Loss: 0.06079104296192475\n",
      "Epoch 7000, Loss: 0.06064788100542891\n",
      "Epoch 8000, Loss: 0.060542323930669176\n",
      "Epoch 9000, Loss: 0.06046230617889395\n"
     ]
    }
   ],
   "source": [
    "# # Инициализация и обучение нейронной сети\n",
    "# input_size = X.shape[1]\n",
    "# hidden_size = 5  # количество нейронов в скрытом слое\n",
    "# output_size = 1  # для регрессии\n",
    "\n",
    "\n",
    "nn.train(X_train.values, y_train.values.reshape(-1, 1), epochs=10000)"
   ]
  },
  {
   "cell_type": "markdown",
   "id": "2da2ef53",
   "metadata": {},
   "source": [
    "## Тестирование"
   ]
  },
  {
   "cell_type": "code",
   "execution_count": 227,
   "id": "6e767aeb",
   "metadata": {},
   "outputs": [
    {
     "data": {
      "text/html": [
       "<div>\n",
       "<style scoped>\n",
       "    .dataframe tbody tr th:only-of-type {\n",
       "        vertical-align: middle;\n",
       "    }\n",
       "\n",
       "    .dataframe tbody tr th {\n",
       "        vertical-align: top;\n",
       "    }\n",
       "\n",
       "    .dataframe thead th {\n",
       "        text-align: right;\n",
       "    }\n",
       "</style>\n",
       "<table border=\"1\" class=\"dataframe\">\n",
       "  <thead>\n",
       "    <tr style=\"text-align: right;\">\n",
       "      <th></th>\n",
       "      <th>Predicted</th>\n",
       "      <th>Real</th>\n",
       "    </tr>\n",
       "  </thead>\n",
       "  <tbody>\n",
       "    <tr>\n",
       "      <th>0</th>\n",
       "      <td>0.384761</td>\n",
       "      <td>0.132653</td>\n",
       "    </tr>\n",
       "    <tr>\n",
       "      <th>1</th>\n",
       "      <td>0.574683</td>\n",
       "      <td>0.408163</td>\n",
       "    </tr>\n",
       "    <tr>\n",
       "      <th>2</th>\n",
       "      <td>0.567466</td>\n",
       "      <td>0.540816</td>\n",
       "    </tr>\n",
       "    <tr>\n",
       "      <th>3</th>\n",
       "      <td>0.545095</td>\n",
       "      <td>0.153061</td>\n",
       "    </tr>\n",
       "    <tr>\n",
       "      <th>4</th>\n",
       "      <td>0.556481</td>\n",
       "      <td>0.612245</td>\n",
       "    </tr>\n",
       "    <tr>\n",
       "      <th>5</th>\n",
       "      <td>0.539465</td>\n",
       "      <td>0.061224</td>\n",
       "    </tr>\n",
       "    <tr>\n",
       "      <th>6</th>\n",
       "      <td>0.441806</td>\n",
       "      <td>0.132653</td>\n",
       "    </tr>\n",
       "    <tr>\n",
       "      <th>7</th>\n",
       "      <td>0.511950</td>\n",
       "      <td>0.938776</td>\n",
       "    </tr>\n",
       "    <tr>\n",
       "      <th>8</th>\n",
       "      <td>0.603099</td>\n",
       "      <td>0.316327</td>\n",
       "    </tr>\n",
       "    <tr>\n",
       "      <th>9</th>\n",
       "      <td>0.504838</td>\n",
       "      <td>0.908163</td>\n",
       "    </tr>\n",
       "    <tr>\n",
       "      <th>10</th>\n",
       "      <td>0.484609</td>\n",
       "      <td>0.469388</td>\n",
       "    </tr>\n",
       "    <tr>\n",
       "      <th>11</th>\n",
       "      <td>0.507327</td>\n",
       "      <td>0.826531</td>\n",
       "    </tr>\n",
       "    <tr>\n",
       "      <th>12</th>\n",
       "      <td>0.366949</td>\n",
       "      <td>0.561224</td>\n",
       "    </tr>\n",
       "    <tr>\n",
       "      <th>13</th>\n",
       "      <td>0.340099</td>\n",
       "      <td>0.132653</td>\n",
       "    </tr>\n",
       "    <tr>\n",
       "      <th>14</th>\n",
       "      <td>0.637373</td>\n",
       "      <td>0.816327</td>\n",
       "    </tr>\n",
       "    <tr>\n",
       "      <th>15</th>\n",
       "      <td>0.496309</td>\n",
       "      <td>0.602041</td>\n",
       "    </tr>\n",
       "    <tr>\n",
       "      <th>16</th>\n",
       "      <td>0.554533</td>\n",
       "      <td>0.275510</td>\n",
       "    </tr>\n",
       "    <tr>\n",
       "      <th>17</th>\n",
       "      <td>0.403954</td>\n",
       "      <td>0.428571</td>\n",
       "    </tr>\n",
       "    <tr>\n",
       "      <th>18</th>\n",
       "      <td>0.402941</td>\n",
       "      <td>0.602041</td>\n",
       "    </tr>\n",
       "    <tr>\n",
       "      <th>19</th>\n",
       "      <td>0.462143</td>\n",
       "      <td>0.040816</td>\n",
       "    </tr>\n",
       "    <tr>\n",
       "      <th>20</th>\n",
       "      <td>0.485995</td>\n",
       "      <td>0.918367</td>\n",
       "    </tr>\n",
       "    <tr>\n",
       "      <th>21</th>\n",
       "      <td>0.498301</td>\n",
       "      <td>0.091837</td>\n",
       "    </tr>\n",
       "    <tr>\n",
       "      <th>22</th>\n",
       "      <td>0.587450</td>\n",
       "      <td>0.765306</td>\n",
       "    </tr>\n",
       "    <tr>\n",
       "      <th>23</th>\n",
       "      <td>0.418015</td>\n",
       "      <td>0.581633</td>\n",
       "    </tr>\n",
       "    <tr>\n",
       "      <th>24</th>\n",
       "      <td>0.483064</td>\n",
       "      <td>0.959184</td>\n",
       "    </tr>\n",
       "    <tr>\n",
       "      <th>25</th>\n",
       "      <td>0.504779</td>\n",
       "      <td>0.836735</td>\n",
       "    </tr>\n",
       "    <tr>\n",
       "      <th>26</th>\n",
       "      <td>0.691325</td>\n",
       "      <td>0.418367</td>\n",
       "    </tr>\n",
       "    <tr>\n",
       "      <th>27</th>\n",
       "      <td>0.646809</td>\n",
       "      <td>0.734694</td>\n",
       "    </tr>\n",
       "    <tr>\n",
       "      <th>28</th>\n",
       "      <td>0.578266</td>\n",
       "      <td>0.602041</td>\n",
       "    </tr>\n",
       "    <tr>\n",
       "      <th>29</th>\n",
       "      <td>0.422163</td>\n",
       "      <td>0.510204</td>\n",
       "    </tr>\n",
       "    <tr>\n",
       "      <th>30</th>\n",
       "      <td>0.489962</td>\n",
       "      <td>0.755102</td>\n",
       "    </tr>\n",
       "    <tr>\n",
       "      <th>31</th>\n",
       "      <td>0.640696</td>\n",
       "      <td>0.938776</td>\n",
       "    </tr>\n",
       "  </tbody>\n",
       "</table>\n",
       "</div>"
      ],
      "text/plain": [
       "    Predicted      Real\n",
       "0    0.384761  0.132653\n",
       "1    0.574683  0.408163\n",
       "2    0.567466  0.540816\n",
       "3    0.545095  0.153061\n",
       "4    0.556481  0.612245\n",
       "5    0.539465  0.061224\n",
       "6    0.441806  0.132653\n",
       "7    0.511950  0.938776\n",
       "8    0.603099  0.316327\n",
       "9    0.504838  0.908163\n",
       "10   0.484609  0.469388\n",
       "11   0.507327  0.826531\n",
       "12   0.366949  0.561224\n",
       "13   0.340099  0.132653\n",
       "14   0.637373  0.816327\n",
       "15   0.496309  0.602041\n",
       "16   0.554533  0.275510\n",
       "17   0.403954  0.428571\n",
       "18   0.402941  0.602041\n",
       "19   0.462143  0.040816\n",
       "20   0.485995  0.918367\n",
       "21   0.498301  0.091837\n",
       "22   0.587450  0.765306\n",
       "23   0.418015  0.581633\n",
       "24   0.483064  0.959184\n",
       "25   0.504779  0.836735\n",
       "26   0.691325  0.418367\n",
       "27   0.646809  0.734694\n",
       "28   0.578266  0.602041\n",
       "29   0.422163  0.510204\n",
       "30   0.489962  0.755102\n",
       "31   0.640696  0.938776"
      ]
     },
     "execution_count": 227,
     "metadata": {},
     "output_type": "execute_result"
    }
   ],
   "source": [
    "predictions = nn.predict(X_test.values, y_test.values)\n",
    "predictions"
   ]
  },
  {
   "cell_type": "code",
   "execution_count": null,
   "id": "dd6d8552",
   "metadata": {},
   "outputs": [],
   "source": []
  }
 ],
 "metadata": {
  "kernelspec": {
   "display_name": "Python 3 (ipykernel)",
   "language": "python",
   "name": "python3"
  },
  "language_info": {
   "codemirror_mode": {
    "name": "ipython",
    "version": 3
   },
   "file_extension": ".py",
   "mimetype": "text/x-python",
   "name": "python",
   "nbconvert_exporter": "python",
   "pygments_lexer": "ipython3",
   "version": "3.11.4"
  }
 },
 "nbformat": 4,
 "nbformat_minor": 5
}
