{
 "cells": [
  {
   "cell_type": "code",
   "execution_count": 3,
   "id": "4ceb11b8",
   "metadata": {},
   "outputs": [],
   "source": [
    "import pandas as pd"
   ]
  },
  {
   "cell_type": "code",
   "execution_count": 31,
   "id": "ade3701d",
   "metadata": {},
   "outputs": [],
   "source": [
    "from sklearn.preprocessing import MinMaxScaler"
   ]
  },
  {
   "cell_type": "code",
   "execution_count": 7,
   "id": "06bba2b3",
   "metadata": {},
   "outputs": [],
   "source": [
    "from sklearn.model_selection import train_test_split"
   ]
  },
  {
   "cell_type": "code",
   "execution_count": 36,
   "id": "97757c27",
   "metadata": {},
   "outputs": [],
   "source": [
    "import numpy as np"
   ]
  },
  {
   "cell_type": "markdown",
   "id": "11fbb9ff",
   "metadata": {},
   "source": [
    "# Датасет"
   ]
  },
  {
   "cell_type": "markdown",
   "id": "c14abc5e",
   "metadata": {},
   "source": [
    "## Импорт"
   ]
  },
  {
   "cell_type": "code",
   "execution_count": 249,
   "id": "cbfa4aac",
   "metadata": {},
   "outputs": [],
   "source": [
    "PATH_TO_FILE: str = 'Mall_Customers.csv'\n",
    "\n",
    "df = pd.read_csv(PATH_TO_FILE)"
   ]
  },
  {
   "cell_type": "code",
   "execution_count": 250,
   "id": "16cfbf5a",
   "metadata": {},
   "outputs": [
    {
     "data": {
      "text/html": [
       "<div>\n",
       "<style scoped>\n",
       "    .dataframe tbody tr th:only-of-type {\n",
       "        vertical-align: middle;\n",
       "    }\n",
       "\n",
       "    .dataframe tbody tr th {\n",
       "        vertical-align: top;\n",
       "    }\n",
       "\n",
       "    .dataframe thead th {\n",
       "        text-align: right;\n",
       "    }\n",
       "</style>\n",
       "<table border=\"1\" class=\"dataframe\">\n",
       "  <thead>\n",
       "    <tr style=\"text-align: right;\">\n",
       "      <th></th>\n",
       "      <th>CustomerID</th>\n",
       "      <th>Genre</th>\n",
       "      <th>Age</th>\n",
       "      <th>Annual Income (k$)</th>\n",
       "      <th>Spending Score (1-100)</th>\n",
       "    </tr>\n",
       "  </thead>\n",
       "  <tbody>\n",
       "    <tr>\n",
       "      <th>0</th>\n",
       "      <td>1</td>\n",
       "      <td>Male</td>\n",
       "      <td>19</td>\n",
       "      <td>15</td>\n",
       "      <td>39</td>\n",
       "    </tr>\n",
       "    <tr>\n",
       "      <th>1</th>\n",
       "      <td>2</td>\n",
       "      <td>Male</td>\n",
       "      <td>21</td>\n",
       "      <td>15</td>\n",
       "      <td>81</td>\n",
       "    </tr>\n",
       "    <tr>\n",
       "      <th>2</th>\n",
       "      <td>3</td>\n",
       "      <td>Female</td>\n",
       "      <td>20</td>\n",
       "      <td>16</td>\n",
       "      <td>6</td>\n",
       "    </tr>\n",
       "    <tr>\n",
       "      <th>3</th>\n",
       "      <td>4</td>\n",
       "      <td>Female</td>\n",
       "      <td>23</td>\n",
       "      <td>16</td>\n",
       "      <td>77</td>\n",
       "    </tr>\n",
       "    <tr>\n",
       "      <th>4</th>\n",
       "      <td>5</td>\n",
       "      <td>Female</td>\n",
       "      <td>31</td>\n",
       "      <td>17</td>\n",
       "      <td>40</td>\n",
       "    </tr>\n",
       "  </tbody>\n",
       "</table>\n",
       "</div>"
      ],
      "text/plain": [
       "   CustomerID   Genre  Age  Annual Income (k$)  Spending Score (1-100)\n",
       "0           1    Male   19                  15                      39\n",
       "1           2    Male   21                  15                      81\n",
       "2           3  Female   20                  16                       6\n",
       "3           4  Female   23                  16                      77\n",
       "4           5  Female   31                  17                      40"
      ]
     },
     "execution_count": 250,
     "metadata": {},
     "output_type": "execute_result"
    }
   ],
   "source": [
    "df.head()"
   ]
  },
  {
   "cell_type": "code",
   "execution_count": 251,
   "id": "b6330d62",
   "metadata": {},
   "outputs": [
    {
     "name": "stdout",
     "output_type": "stream",
     "text": [
      "<class 'pandas.core.frame.DataFrame'>\n",
      "RangeIndex: 200 entries, 0 to 199\n",
      "Data columns (total 5 columns):\n",
      " #   Column                  Non-Null Count  Dtype \n",
      "---  ------                  --------------  ----- \n",
      " 0   CustomerID              200 non-null    int64 \n",
      " 1   Genre                   200 non-null    object\n",
      " 2   Age                     200 non-null    int64 \n",
      " 3   Annual Income (k$)      200 non-null    int64 \n",
      " 4   Spending Score (1-100)  200 non-null    int64 \n",
      "dtypes: int64(4), object(1)\n",
      "memory usage: 7.9+ KB\n"
     ]
    }
   ],
   "source": [
    "df.info()"
   ]
  },
  {
   "cell_type": "markdown",
   "id": "7014b753",
   "metadata": {},
   "source": [
    "## Коректировка"
   ]
  },
  {
   "cell_type": "code",
   "execution_count": 252,
   "id": "4f1136a0",
   "metadata": {},
   "outputs": [],
   "source": [
    "df = df.drop('CustomerID', axis=1)"
   ]
  },
  {
   "cell_type": "markdown",
   "id": "c675c916",
   "metadata": {},
   "source": [
    "### Преобразуем категориальные данные в числовые"
   ]
  },
  {
   "cell_type": "code",
   "execution_count": 253,
   "id": "63c58e8e",
   "metadata": {},
   "outputs": [
    {
     "name": "stdout",
     "output_type": "stream",
     "text": [
      "<class 'pandas.core.frame.DataFrame'>\n",
      "RangeIndex: 200 entries, 0 to 199\n",
      "Data columns (total 4 columns):\n",
      " #   Column                  Non-Null Count  Dtype\n",
      "---  ------                  --------------  -----\n",
      " 0   Age                     200 non-null    int64\n",
      " 1   Annual Income (k$)      200 non-null    int64\n",
      " 2   Spending Score (1-100)  200 non-null    int64\n",
      " 3   Genre_Male              200 non-null    uint8\n",
      "dtypes: int64(3), uint8(1)\n",
      "memory usage: 5.0 KB\n"
     ]
    }
   ],
   "source": [
    "df = pd.get_dummies(df, columns=['Genre'], drop_first=True)\n",
    "df.info()"
   ]
  },
  {
   "cell_type": "markdown",
   "id": "c082367a",
   "metadata": {},
   "source": [
    "### Выделяем целевую переменную"
   ]
  },
  {
   "cell_type": "code",
   "execution_count": 254,
   "id": "b48be876",
   "metadata": {},
   "outputs": [],
   "source": [
    "X = df.drop('Spending Score (1-100)', axis=1)\n",
    "Y = df['Spending Score (1-100)']"
   ]
  },
  {
   "cell_type": "markdown",
   "id": "edae4c2d",
   "metadata": {},
   "source": [
    "### Нормализация"
   ]
  },
  {
   "cell_type": "code",
   "execution_count": 255,
   "id": "6bb03b24",
   "metadata": {},
   "outputs": [],
   "source": [
    "# Нормализация данных\n",
    "X = (X - X.min()) / (X.max() - X.min())\n",
    "Y = (Y - Y.min()) / (Y.max() - Y.min())"
   ]
  },
  {
   "cell_type": "markdown",
   "id": "d999437d",
   "metadata": {},
   "source": [
    "## Разделение на обучающую и тестовую выборки"
   ]
  },
  {
   "cell_type": "code",
   "execution_count": 256,
   "id": "cf185d0f",
   "metadata": {},
   "outputs": [],
   "source": [
    "X_train, X_test, y_train, y_test = train_test_split(X, Y, test_size=0.2, random_state=42)"
   ]
  },
  {
   "cell_type": "code",
   "execution_count": 257,
   "id": "cc880898",
   "metadata": {},
   "outputs": [
    {
     "name": "stdout",
     "output_type": "stream",
     "text": [
      "<class 'pandas.core.frame.DataFrame'>\n",
      "Int64Index: 160 entries, 79 to 102\n",
      "Data columns (total 3 columns):\n",
      " #   Column              Non-Null Count  Dtype  \n",
      "---  ------              --------------  -----  \n",
      " 0   Age                 160 non-null    float64\n",
      " 1   Annual Income (k$)  160 non-null    float64\n",
      " 2   Genre_Male          160 non-null    float64\n",
      "dtypes: float64(3)\n",
      "memory usage: 5.0 KB\n"
     ]
    }
   ],
   "source": [
    "X_train.info()"
   ]
  },
  {
   "cell_type": "code",
   "execution_count": 258,
   "id": "cc9b9670",
   "metadata": {},
   "outputs": [
    {
     "name": "stdout",
     "output_type": "stream",
     "text": [
      "<class 'pandas.core.series.Series'>\n",
      "Int64Index: 160 entries, 79 to 102\n",
      "Series name: Spending Score (1-100)\n",
      "Non-Null Count  Dtype  \n",
      "--------------  -----  \n",
      "160 non-null    float64\n",
      "dtypes: float64(1)\n",
      "memory usage: 2.5 KB\n"
     ]
    }
   ],
   "source": [
    "y_train.info()"
   ]
  },
  {
   "cell_type": "markdown",
   "id": "0d54d696",
   "metadata": {},
   "source": [
    "# Создать нейронную сеть с нуля, т.е. не используя готовые библиотеки.\n"
   ]
  },
  {
   "cell_type": "markdown",
   "id": "d5632275",
   "metadata": {},
   "source": [
    "### Нейрон"
   ]
  },
  {
   "cell_type": "code",
   "execution_count": 259,
   "id": "4fd1fe2e",
   "metadata": {},
   "outputs": [],
   "source": [
    "class SimpleNeuralNetwork:\n",
    "    def __init__(self, input_size, hidden_size, output_size, learning_rate=0.01):\n",
    "        # Инициализация параметров сети\n",
    "        self.input_size = input_size\n",
    "        self.hidden_size = hidden_size\n",
    "        self.output_size = output_size\n",
    "        self.learning_rate = learning_rate\n",
    "\n",
    "        # Веса и смещения\n",
    "        self.weights_input_hidden = np.random.rand(self.input_size, self.hidden_size)\n",
    "        self.bias_hidden = np.random.rand(self.hidden_size)\n",
    "        self.weights_hidden_output = np.random.rand(self.hidden_size, self.output_size)\n",
    "        self.bias_output = np.random.rand(self.output_size)\n",
    "\n",
    "    def activation(self, x):\n",
    "        # Используем сигмоидную функцию активации\n",
    "        return 1 / (1 + np.exp(-x))\n",
    "\n",
    "    def activation_derivative(self, x):\n",
    "        # Производная сигмоидной функции активации\n",
    "        return x * (1 - x)\n",
    "\n",
    "    def forward(self, X):\n",
    "        # Прямое распространение\n",
    "        self.hidden_layer_input = np.dot(X, self.weights_input_hidden) + self.bias_hidden\n",
    "        self.hidden_layer_output = self.activation(self.hidden_layer_input)\n",
    "        self.output_layer_input = np.dot(self.hidden_layer_output, self.weights_hidden_output) + self.bias_output\n",
    "        self.output = self.activation(self.output_layer_input)\n",
    "        return self.output\n",
    "\n",
    "    def backward(self, X, Y, output):\n",
    "        # Обратное распространение ошибки\n",
    "        output_error = Y - output\n",
    "        output_delta = output_error * self.activation_derivative(output)\n",
    "\n",
    "        hidden_layer_error = output_delta.dot(self.weights_hidden_output.T)\n",
    "        hidden_layer_delta = hidden_layer_error * self.activation_derivative(self.hidden_layer_output)\n",
    "\n",
    "        # Обновление весов и смещений\n",
    "        self.weights_hidden_output += self.hidden_layer_output.T.dot(output_delta) * self.learning_rate\n",
    "        self.bias_output += np.sum(output_delta, axis=0) * self.learning_rate\n",
    "        self.weights_input_hidden += X.T.dot(hidden_layer_delta) * self.learning_rate\n",
    "        self.bias_hidden += np.sum(hidden_layer_delta, axis=0) * self.learning_rate\n",
    "\n",
    "    def train(self, X, Y, epochs):\n",
    "        # Обучение сети\n",
    "        for epoch in range(epochs):\n",
    "            output = self.forward(X)\n",
    "            self.backward(X, Y, output)\n",
    "\n",
    "            if epoch % 1000 == 0:\n",
    "                loss = np.mean(np.square(Y - output))\n",
    "                print(f'Epoch {epoch}, Loss: {loss}')\n",
    "\n",
    "    def predict(self, X, y):\n",
    "        pre = self.forward(X)\n",
    "        res = pd.DataFrame()\n",
    "        res['Predicted'] = [p[0] for p in pre]\n",
    "        res['Real'] = y\n",
    "        return res"
   ]
  },
  {
   "cell_type": "code",
   "execution_count": 260,
   "id": "582f8be5",
   "metadata": {},
   "outputs": [],
   "source": [
    "nn = SimpleNeuralNetwork(X_train.shape[1], 5, 1)"
   ]
  },
  {
   "cell_type": "code",
   "execution_count": 261,
   "id": "b3c6e98c",
   "metadata": {},
   "outputs": [
    {
     "name": "stdout",
     "output_type": "stream",
     "text": [
      "Epoch 0, Loss: 0.24865560794591532\n",
      "Epoch 1000, Loss: 0.0659215031398039\n",
      "Epoch 2000, Loss: 0.06439140339883875\n",
      "Epoch 3000, Loss: 0.064082659327283\n",
      "Epoch 4000, Loss: 0.06385450383783131\n",
      "Epoch 5000, Loss: 0.06373003140877868\n",
      "Epoch 6000, Loss: 0.06366019569549079\n",
      "Epoch 7000, Loss: 0.0636077865928576\n",
      "Epoch 8000, Loss: 0.06355416397866082\n",
      "Epoch 9000, Loss: 0.06349042361778583\n"
     ]
    }
   ],
   "source": [
    "nn.train(X_train.values, y_train.values.reshape(-1, 1), epochs=10000)"
   ]
  },
  {
   "cell_type": "markdown",
   "id": "29fd69fc",
   "metadata": {},
   "source": [
    "## Тестирование"
   ]
  },
  {
   "cell_type": "code",
   "execution_count": 262,
   "id": "893a6bc2",
   "metadata": {},
   "outputs": [
    {
     "data": {
      "text/html": [
       "<div>\n",
       "<style scoped>\n",
       "    .dataframe tbody tr th:only-of-type {\n",
       "        vertical-align: middle;\n",
       "    }\n",
       "\n",
       "    .dataframe tbody tr th {\n",
       "        vertical-align: top;\n",
       "    }\n",
       "\n",
       "    .dataframe thead th {\n",
       "        text-align: right;\n",
       "    }\n",
       "</style>\n",
       "<table border=\"1\" class=\"dataframe\">\n",
       "  <thead>\n",
       "    <tr style=\"text-align: right;\">\n",
       "      <th></th>\n",
       "      <th>Predicted</th>\n",
       "      <th>Real</th>\n",
       "    </tr>\n",
       "  </thead>\n",
       "  <tbody>\n",
       "    <tr>\n",
       "      <th>0</th>\n",
       "      <td>0.580335</td>\n",
       "      <td>0.520408</td>\n",
       "    </tr>\n",
       "    <tr>\n",
       "      <th>1</th>\n",
       "      <td>0.574298</td>\n",
       "      <td>0.795918</td>\n",
       "    </tr>\n",
       "    <tr>\n",
       "      <th>2</th>\n",
       "      <td>0.380462</td>\n",
       "      <td>0.030612</td>\n",
       "    </tr>\n",
       "    <tr>\n",
       "      <th>3</th>\n",
       "      <td>0.550698</td>\n",
       "      <td>0.000000</td>\n",
       "    </tr>\n",
       "    <tr>\n",
       "      <th>4</th>\n",
       "      <td>0.432224</td>\n",
       "      <td>0.102041</td>\n",
       "    </tr>\n",
       "    <tr>\n",
       "      <th>5</th>\n",
       "      <td>0.694773</td>\n",
       "      <td>0.500000</td>\n",
       "    </tr>\n",
       "    <tr>\n",
       "      <th>6</th>\n",
       "      <td>0.568081</td>\n",
       "      <td>0.469388</td>\n",
       "    </tr>\n",
       "    <tr>\n",
       "      <th>7</th>\n",
       "      <td>0.532942</td>\n",
       "      <td>0.122449</td>\n",
       "    </tr>\n",
       "    <tr>\n",
       "      <th>8</th>\n",
       "      <td>0.426684</td>\n",
       "      <td>0.122449</td>\n",
       "    </tr>\n",
       "    <tr>\n",
       "      <th>9</th>\n",
       "      <td>0.634897</td>\n",
       "      <td>0.653061</td>\n",
       "    </tr>\n",
       "    <tr>\n",
       "      <th>10</th>\n",
       "      <td>0.464092</td>\n",
       "      <td>0.500000</td>\n",
       "    </tr>\n",
       "    <tr>\n",
       "      <th>11</th>\n",
       "      <td>0.516524</td>\n",
       "      <td>0.142857</td>\n",
       "    </tr>\n",
       "    <tr>\n",
       "      <th>12</th>\n",
       "      <td>0.565922</td>\n",
       "      <td>0.755102</td>\n",
       "    </tr>\n",
       "    <tr>\n",
       "      <th>13</th>\n",
       "      <td>0.655438</td>\n",
       "      <td>0.520408</td>\n",
       "    </tr>\n",
       "    <tr>\n",
       "      <th>14</th>\n",
       "      <td>0.423926</td>\n",
       "      <td>0.234694</td>\n",
       "    </tr>\n",
       "    <tr>\n",
       "      <th>15</th>\n",
       "      <td>0.577789</td>\n",
       "      <td>0.693878</td>\n",
       "    </tr>\n",
       "    <tr>\n",
       "      <th>16</th>\n",
       "      <td>0.393005</td>\n",
       "      <td>0.500000</td>\n",
       "    </tr>\n",
       "    <tr>\n",
       "      <th>17</th>\n",
       "      <td>0.485666</td>\n",
       "      <td>0.193878</td>\n",
       "    </tr>\n",
       "    <tr>\n",
       "      <th>18</th>\n",
       "      <td>0.368950</td>\n",
       "      <td>0.408163</td>\n",
       "    </tr>\n",
       "    <tr>\n",
       "      <th>19</th>\n",
       "      <td>0.595568</td>\n",
       "      <td>0.591837</td>\n",
       "    </tr>\n",
       "    <tr>\n",
       "      <th>20</th>\n",
       "      <td>0.666618</td>\n",
       "      <td>0.285714</td>\n",
       "    </tr>\n",
       "    <tr>\n",
       "      <th>21</th>\n",
       "      <td>0.512704</td>\n",
       "      <td>0.346939</td>\n",
       "    </tr>\n",
       "    <tr>\n",
       "      <th>22</th>\n",
       "      <td>0.577604</td>\n",
       "      <td>0.214286</td>\n",
       "    </tr>\n",
       "    <tr>\n",
       "      <th>23</th>\n",
       "      <td>0.503924</td>\n",
       "      <td>0.397959</td>\n",
       "    </tr>\n",
       "    <tr>\n",
       "      <th>24</th>\n",
       "      <td>0.599288</td>\n",
       "      <td>0.591837</td>\n",
       "    </tr>\n",
       "    <tr>\n",
       "      <th>25</th>\n",
       "      <td>0.343749</td>\n",
       "      <td>0.561224</td>\n",
       "    </tr>\n",
       "    <tr>\n",
       "      <th>26</th>\n",
       "      <td>0.672160</td>\n",
       "      <td>0.571429</td>\n",
       "    </tr>\n",
       "    <tr>\n",
       "      <th>27</th>\n",
       "      <td>0.292460</td>\n",
       "      <td>0.479592</td>\n",
       "    </tr>\n",
       "    <tr>\n",
       "      <th>28</th>\n",
       "      <td>0.597704</td>\n",
       "      <td>0.775510</td>\n",
       "    </tr>\n",
       "    <tr>\n",
       "      <th>29</th>\n",
       "      <td>0.651612</td>\n",
       "      <td>0.336735</td>\n",
       "    </tr>\n",
       "    <tr>\n",
       "      <th>30</th>\n",
       "      <td>0.559594</td>\n",
       "      <td>0.724490</td>\n",
       "    </tr>\n",
       "    <tr>\n",
       "      <th>31</th>\n",
       "      <td>0.418838</td>\n",
       "      <td>0.285714</td>\n",
       "    </tr>\n",
       "    <tr>\n",
       "      <th>32</th>\n",
       "      <td>0.467919</td>\n",
       "      <td>0.408163</td>\n",
       "    </tr>\n",
       "    <tr>\n",
       "      <th>33</th>\n",
       "      <td>0.570918</td>\n",
       "      <td>0.540816</td>\n",
       "    </tr>\n",
       "    <tr>\n",
       "      <th>34</th>\n",
       "      <td>0.515584</td>\n",
       "      <td>0.163265</td>\n",
       "    </tr>\n",
       "    <tr>\n",
       "      <th>35</th>\n",
       "      <td>0.475283</td>\n",
       "      <td>0.561224</td>\n",
       "    </tr>\n",
       "    <tr>\n",
       "      <th>36</th>\n",
       "      <td>0.618121</td>\n",
       "      <td>0.887755</td>\n",
       "    </tr>\n",
       "    <tr>\n",
       "      <th>37</th>\n",
       "      <td>0.555853</td>\n",
       "      <td>0.734694</td>\n",
       "    </tr>\n",
       "    <tr>\n",
       "      <th>38</th>\n",
       "      <td>0.490334</td>\n",
       "      <td>0.255102</td>\n",
       "    </tr>\n",
       "    <tr>\n",
       "      <th>39</th>\n",
       "      <td>0.452120</td>\n",
       "      <td>0.530612</td>\n",
       "    </tr>\n",
       "  </tbody>\n",
       "</table>\n",
       "</div>"
      ],
      "text/plain": [
       "    Predicted      Real\n",
       "0    0.580335  0.520408\n",
       "1    0.574298  0.795918\n",
       "2    0.380462  0.030612\n",
       "3    0.550698  0.000000\n",
       "4    0.432224  0.102041\n",
       "5    0.694773  0.500000\n",
       "6    0.568081  0.469388\n",
       "7    0.532942  0.122449\n",
       "8    0.426684  0.122449\n",
       "9    0.634897  0.653061\n",
       "10   0.464092  0.500000\n",
       "11   0.516524  0.142857\n",
       "12   0.565922  0.755102\n",
       "13   0.655438  0.520408\n",
       "14   0.423926  0.234694\n",
       "15   0.577789  0.693878\n",
       "16   0.393005  0.500000\n",
       "17   0.485666  0.193878\n",
       "18   0.368950  0.408163\n",
       "19   0.595568  0.591837\n",
       "20   0.666618  0.285714\n",
       "21   0.512704  0.346939\n",
       "22   0.577604  0.214286\n",
       "23   0.503924  0.397959\n",
       "24   0.599288  0.591837\n",
       "25   0.343749  0.561224\n",
       "26   0.672160  0.571429\n",
       "27   0.292460  0.479592\n",
       "28   0.597704  0.775510\n",
       "29   0.651612  0.336735\n",
       "30   0.559594  0.724490\n",
       "31   0.418838  0.285714\n",
       "32   0.467919  0.408163\n",
       "33   0.570918  0.540816\n",
       "34   0.515584  0.163265\n",
       "35   0.475283  0.561224\n",
       "36   0.618121  0.887755\n",
       "37   0.555853  0.734694\n",
       "38   0.490334  0.255102\n",
       "39   0.452120  0.530612"
      ]
     },
     "execution_count": 262,
     "metadata": {},
     "output_type": "execute_result"
    }
   ],
   "source": [
    "predictions = nn.predict(X_test.values, y_test.values)\n",
    "predictions"
   ]
  },
  {
   "cell_type": "code",
   "execution_count": null,
   "id": "f50e4e7e",
   "metadata": {},
   "outputs": [],
   "source": []
  }
 ],
 "metadata": {
  "kernelspec": {
   "display_name": "Python 3 (ipykernel)",
   "language": "python",
   "name": "python3"
  },
  "language_info": {
   "codemirror_mode": {
    "name": "ipython",
    "version": 3
   },
   "file_extension": ".py",
   "mimetype": "text/x-python",
   "name": "python",
   "nbconvert_exporter": "python",
   "pygments_lexer": "ipython3",
   "version": "3.11.4"
  }
 },
 "nbformat": 4,
 "nbformat_minor": 5
}
