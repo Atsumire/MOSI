{
 "cells": [
  {
   "cell_type": "code",
   "execution_count": 1,
   "id": "9883dc9c",
   "metadata": {},
   "outputs": [],
   "source": [
    "import pandas as pd"
   ]
  },
  {
   "cell_type": "markdown",
   "id": "6b9c963b",
   "metadata": {},
   "source": [
    "# Подготовка данных"
   ]
  },
  {
   "cell_type": "markdown",
   "id": "9758a628",
   "metadata": {},
   "source": [
    "## Выгрузка данных"
   ]
  },
  {
   "cell_type": "code",
   "execution_count": 4,
   "id": "b8495173",
   "metadata": {},
   "outputs": [],
   "source": [
    "PATH_TO_FILE: str = 'part1.csv'\n",
    "\n",
    "df1 = pd.read_csv(PATH_TO_FILE)\n",
    "\n",
    "PATH_TO_FILE: str = 'part2.csv'\n",
    "\n",
    "df2 = pd.read_csv(PATH_TO_FILE)\n",
    "\n",
    "df = pd.concat([df1, df2], ignore_index=True, axis=0)"
   ]
  },
  {
   "cell_type": "code",
   "execution_count": 5,
   "id": "f250bea3",
   "metadata": {},
   "outputs": [
    {
     "name": "stdout",
     "output_type": "stream",
     "text": [
      "<class 'pandas.core.frame.DataFrame'>\n",
      "RangeIndex: 65000 entries, 0 to 64999\n",
      "Data columns (total 3 columns):\n",
      " #   Column    Non-Null Count  Dtype \n",
      "---  ------    --------------  ----- \n",
      " 0   oid       65000 non-null  int64 \n",
      " 1   text      65000 non-null  object\n",
      " 2   category  38740 non-null  object\n",
      "dtypes: int64(1), object(2)\n",
      "memory usage: 1.5+ MB\n"
     ]
    }
   ],
   "source": [
    "df.info()"
   ]
  },
  {
   "cell_type": "markdown",
   "id": "39ad336f",
   "metadata": {},
   "source": [
    "## Токенизация данных"
   ]
  },
  {
   "cell_type": "markdown",
   "id": "20abc638",
   "metadata": {},
   "source": [
    "## Стемминг данных"
   ]
  },
  {
   "cell_type": "markdown",
   "id": "81045cf1",
   "metadata": {},
   "source": [
    "## Лемматизация данных"
   ]
  },
  {
   "cell_type": "markdown",
   "id": "d5c76d02",
   "metadata": {},
   "source": [
    "## Bag of words"
   ]
  },
  {
   "cell_type": "markdown",
   "id": "e81576b5",
   "metadata": {},
   "source": [
    "# Разделение данных"
   ]
  },
  {
   "cell_type": "code",
   "execution_count": null,
   "id": "05c1641b",
   "metadata": {},
   "outputs": [],
   "source": []
  }
 ],
 "metadata": {
  "kernelspec": {
   "display_name": "Python 3 (ipykernel)",
   "language": "python",
   "name": "python3"
  },
  "language_info": {
   "codemirror_mode": {
    "name": "ipython",
    "version": 3
   },
   "file_extension": ".py",
   "mimetype": "text/x-python",
   "name": "python",
   "nbconvert_exporter": "python",
   "pygments_lexer": "ipython3",
   "version": "3.11.4"
  }
 },
 "nbformat": 4,
 "nbformat_minor": 5
}
